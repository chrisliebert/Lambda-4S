{
 "cells": [
  {
   "cell_type": "raw",
   "metadata": {},
   "source": [
    "---\n",
    "layout: project-subpage\n",
    "title: Interpolated First Stage Thrust Curves\n",
    "description: \"Digitized Lambda-4S data, interpolated first stage thrust curves\"\n",
    "page: data\n",
    "subpage: stage1\n",
    "---"
   ]
  },
  {
   "cell_type": "markdown",
   "metadata": {},
   "source": [
    "# First Stage Thrust Curves\n",
    "\n",
    "The reference I can find with thrust curves for the Lambda vehicle has a total thrust curve for the entire first stage, the main motor and both boosters combined. We would like to know what the indavidual thrusts are.\n",
    "\n",
    "We can probably make a pretty good guess to what that is, interpolating the thrust of the first stage motor by itself (it should be similar to the second stage) and then subtracting from the total.\n",
    "\n",
    "## First Stage Total Thrust"
   ]
  },
  {
   "cell_type": "code",
   "execution_count": null,
   "metadata": {
    "collapsed": false
   },
   "outputs": [],
   "source": [
    "# dependencies\n",
    "from numpy import loadtxt\n",
    "import matplotlib.pyplot as plt\n",
    "%matplotlib inline\n",
    "\n",
    "g_0 = 9.80665\n",
    "\n",
    "LB2KG = 0.453592\n",
    "IN2M = 0.0254\n",
    "SF2KGM = 1.35581795\n",
    "\n",
    "stage1_thrust_time, stage1_thrust = loadtxt('../thrust_booster_and_stage1.csv', delimiter=',', unpack=True)"
   ]
  },
  {
   "cell_type": "code",
   "execution_count": null,
   "metadata": {
    "collapsed": false
   },
   "outputs": [],
   "source": [
    "fig, ax1 = plt.subplots(figsize=(18,8))\n",
    "plt.title(r\"L-4S-2 First Stage Total Thrust\")\n",
    "plt.ylabel(r\"Thrust [kN]\")\n",
    "plt.xlabel(r\"Launch Elapsed Time [s]\")\n",
    "\n",
    "plt.plot(stage1_thrust_time, (stage1_thrust*g_0)/1000.0, alpha=0.7, label=\"L-4S-2 Vehicle Data\")\n",
    "\n",
    "#plt.ylim([0,5])\n",
    "plt.xlim([0,30])\n",
    "ax1.legend(loc=1)\n",
    "plt.show()"
   ]
  },
  {
   "cell_type": "markdown",
   "metadata": {},
   "source": [
    "We can see the booster thrust die down after about 7 seconds. Looking at the other stages it seems like a good asumption that the thrust curve was roughtly flat. So we'll interpolate the rest of the first stage curve:"
   ]
  },
  {
   "cell_type": "code",
   "execution_count": null,
   "metadata": {
    "collapsed": false
   },
   "outputs": [],
   "source": [
    "stage1_main_thrust = []\n",
    "for i, t in enumerate(stage1_thrust_time):\n",
    "    if t <= 8.0:\n",
    "        stage1_main_thrust.append(39500)\n",
    "    else:\n",
    "        stage1_main_thrust.append(stage1_thrust[i])\n",
    "    \n",
    "fig, ax1 = plt.subplots(figsize=(18,8))\n",
    "plt.title(r\"L-4S-2 First Stage Thrust Interpolated\")\n",
    "plt.ylabel(r\"Thrust [kN]\")\n",
    "plt.xlabel(r\"Launch Elapsed Time [s]\")\n",
    "\n",
    "plt.plot(stage1_thrust_time, (stage1_thrust*g_0)/1000.0, alpha=0.7, label=\"L-4S-2 Vehicle Data\")\n",
    "plt.plot(stage1_thrust_time, [t*g_0/1000.0 for t in stage1_main_thrust], alpha=0.7, label=\"Interpolated First Stage Main Motor\")\n",
    "\n",
    "#plt.ylim([0,5])\n",
    "plt.xlim([0,30])\n",
    "ax1.legend(loc=1)\n",
    "plt.show()"
   ]
  },
  {
   "cell_type": "markdown",
   "metadata": {},
   "source": [
    "And then subtract that curve to get just the booster thrust by itself. There are two boosters, so dividing by two will give the thrust of just one by itself."
   ]
  },
  {
   "cell_type": "code",
   "execution_count": null,
   "metadata": {
    "collapsed": false
   },
   "outputs": [],
   "source": [
    "stage1_boost_time = []\n",
    "stage1_boost_thrust = []\n",
    "\n",
    "\n",
    "for i, t in enumerate(stage1_thrust_time):\n",
    "    total = stage1_thrust[i]\n",
    "    main = stage1_main_thrust[i]\n",
    "    boost = total - main\n",
    "    if boost < 0:\n",
    "        break\n",
    "    stage1_boost_time.append(t)\n",
    "    stage1_boost_thrust.append(boost/2.0)\n",
    "    \n",
    "    \n",
    "fig, ax1 = plt.subplots(figsize=(6,8))\n",
    "plt.title(r\"L-4S-2 First Stage Single Booster Thrust\")\n",
    "plt.ylabel(r\"Thrust [kN]\")\n",
    "plt.xlabel(r\"Launch Elapsed Time [s]\")\n",
    "\n",
    "plt.plot(stage1_boost_time, [t*g_0/1000.0 for t in stage1_boost_thrust], alpha=0.7, label=\"First Stage Booster Motor\")\n",
    "\n",
    "plt.ylim([0,200])\n",
    "plt.xlim([0,8.7])\n",
    "ax1.legend(loc=1)\n",
    "plt.show()"
   ]
  },
  {
   "cell_type": "markdown",
   "metadata": {},
   "source": [
    "## Reconstructed Thrust Curve\n",
    "\n",
    "If we put it all back together, it should exactly match our original thrustcurve"
   ]
  },
  {
   "cell_type": "code",
   "execution_count": null,
   "metadata": {
    "collapsed": false
   },
   "outputs": [],
   "source": [
    "composit_thrust = []\n",
    "for i, t in enumerate(stage1_thrust_time):\n",
    "    if i < len(stage1_boost_thrust):\n",
    "        composit_thrust.append(stage1_boost_thrust[i]*2.0 + stage1_main_thrust[i])\n",
    "    else:\n",
    "        composit_thrust.append(stage1_main_thrust[i])\n",
    "        \n",
    "fig, ax1 = plt.subplots(figsize=(18,8))\n",
    "plt.title(r\"L-4S-2 First Composite Thrust\")\n",
    "plt.ylabel(r\"Thrust [kN]\")\n",
    "plt.xlabel(r\"Launch Elapsed Time [s]\")\n",
    "\n",
    "plt.plot(stage1_thrust_time, (stage1_thrust*g_0)/1000.0, 'k-', lw=3.0, alpha=0.5, label=\"L-4S-2 Vehicle Data\")\n",
    "plt.plot(stage1_thrust_time, [t*g_0/1000.0 for t in stage1_main_thrust], 'b--', lw=1.0, label=\"Interpolated First Stage Main Motor\")\n",
    "plt.plot(stage1_boost_time, [t*g_0/1000.0 for t in stage1_boost_thrust], 'g--', lw=1.0, label=\"First Stage Booster Motor\")\n",
    "plt.plot(stage1_thrust_time, [t*g_0/1000.0 for t in composit_thrust], alpha=1.0, label=\"Composite First Stage Motor\")\n",
    "\n",
    "#plt.ylim([0,200])\n",
    "#plt.xlim([0,8.7])\n",
    "ax1.legend(loc=1)\n",
    "plt.show()"
   ]
  },
  {
   "cell_type": "code",
   "execution_count": null,
   "metadata": {
    "collapsed": true
   },
   "outputs": [],
   "source": [
    "# write to file\n",
    "with open(\"stage1_main_thrust.csv\", 'w') as out:\n",
    "    for i, t in enumerate(stage1_main_thrust):\n",
    "        out.write(\"%0.3f, %0.1f\\n\" % (stage1_thrust_time[i], t*g_0))\n",
    "\n",
    "with open(\"stage1_boost_thrust.csv\", 'w') as out:\n",
    "    for i, t in enumerate(stage1_boost_thrust):\n",
    "        out.write(\"%0.3f, %0.1f\\n\" % (stage1_thrust_time[i], t*g_0))"
   ]
  },
  {
   "cell_type": "markdown",
   "metadata": {},
   "source": [
    "We can now use both sets of data to create useful thrust curves for simulation.\n",
    "\n",
    " - [stage1_main_thrust.csv](stage1_main_thrust.csv)\n",
    " - [stage1_boost_thrust.csv](stage1_boost_thrust.csv)\n",
    "\n",
    "Format:\n",
    "\n",
    " Column |                                Value | Units\n",
    " :----: | -----------------------------------: | :-----\n",
    "  1     | Time                                 | s\n",
    "  2     | Thrust                               | N\n"
   ]
  },
  {
   "cell_type": "raw",
   "metadata": {},
   "source": []
  }
 ],
 "metadata": {
  "kernelspec": {
   "display_name": "Python 3",
   "language": "python",
   "name": "python3"
  },
  "language_info": {
   "codemirror_mode": {
    "name": "ipython",
    "version": 3
   },
   "file_extension": ".py",
   "mimetype": "text/x-python",
   "name": "python",
   "nbconvert_exporter": "python",
   "pygments_lexer": "ipython3",
   "version": "3.5.1+"
  }
 },
 "nbformat": 4,
 "nbformat_minor": 0
}
