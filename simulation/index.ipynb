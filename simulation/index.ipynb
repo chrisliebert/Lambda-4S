{
 "cells": [
  {
   "cell_type": "raw",
   "metadata": {},
   "source": [
    "---\n",
    "title: Simulation\n",
    "layout: project\n",
    "---"
   ]
  },
  {
   "cell_type": "markdown",
   "metadata": {},
   "source": [
    "# JSBSim L-4S-5 Flight Recreation\n",
    "\n",
    "Run the model in JSBSim and compare results to technical papers."
   ]
  },
  {
   "cell_type": "code",
   "execution_count": null,
   "metadata": {
    "collapsed": false
   },
   "outputs": [],
   "source": [
    "# dependencies\n",
    "from numpy import loadtxt\n",
    "import matplotlib.pyplot as plt\n",
    "%matplotlib inline\n",
    "\n",
    "blue = \"#3366cc\"\n",
    "\n",
    "# Historical data\n",
    "columns = loadtxt('../data/traj_model_case_1_booster.csv', delimiter=',', unpack=True)\n",
    "case_1_booster_d, case_1_booster_alt = columns\n",
    "columns = loadtxt('../data/traj_model_case_2_booster.csv', delimiter=',', unpack=True)\n",
    "case_2_booster_d, case_2_booster_alt = columns\n",
    "columns = loadtxt('../data/traj_model_case_3_booster.csv', delimiter=',', unpack=True)\n",
    "case_3_booster_d, case_3_booster_alt = columns\n",
    "columns = loadtxt('../data/traj_model_case_1_stage1.csv', delimiter=',', unpack=True)\n",
    "case_1_stage1_d, case_1_stage1_alt = columns\n",
    "columns = loadtxt('../data/traj_model_case_2_stage1.csv', delimiter=',', unpack=True)\n",
    "case_2_stage1_d, case_2_stage1_alt = columns\n",
    "columns = loadtxt('../data/traj_model_case_3_stage1.csv', delimiter=',', unpack=True)\n",
    "case_3_stage1_d, case_3_stage1_alt = columns\n",
    "\n",
    "# Import sim data\n",
    "columns = loadtxt(\"JSBSim/data.csv\", delimiter=',', unpack=True, comments=\"T\")\n",
    "\n",
    "times              = columns[ 0]\n",
    "MET                = columns[ 1]\n",
    "altitudeMsl        = columns[ 2]\n",
    "latitude           = columns[ 3]\n",
    "longitude          = columns[ 4]\n",
    "thrust             = columns[ 5] * 4.44822   # to newtons\n",
    "total_mass         = columns[ 6] * 0.453592  # to kg\n",
    "pitch              = columns[ 7]\n",
    "ecei_vmag          = columns[ 8] * 0.3048    # to m/s\n",
    "eci_vmag           = columns[ 9] * 0.3048    # to m/s\n",
    "qbar               = columns[10] * 4.882e-4  # to kg/cm2\n",
    "acc_u              = columns[11] * 0.3048    # to m/s2\n",
    "acc_v              = columns[12] * 0.3048    # to m/s2\n",
    "acc_w              = columns[13] * 0.3048    # to m/s2\n",
    "downrange          = columns[14]\n",
    "alpha              = columns[15]\n",
    "roll_rate          = columns[16] * 57.2958   # to deg/s"
   ]
  },
  {
   "cell_type": "code",
   "execution_count": null,
   "metadata": {
    "collapsed": false
   },
   "outputs": [],
   "source": [
    "fig, ax1 = plt.subplots(figsize=(8,12))\n",
    "plt.title(r\"L-4S-5 Booster Altitude/Downrage\")\n",
    "plt.ylabel(r\"Altitude [km]\")\n",
    "plt.xlabel(r\"Downrange [km]\")\n",
    "\n",
    "#plt.fill_between(case_1_booster_d, 0, case_1_booster_alt, color=blue, alpha=0.10)\n",
    "#plt.fill_between(case_3_booster_d, 0, case_3_booster_alt, color='white')\n",
    "plt.fill_between(case_3_stage1_d, 0, case_3_stage1_alt, color=blue, alpha=0.10)\n",
    "plt.fill_between(case_1_stage1_d, 0, case_1_stage1_alt, color='white')\n",
    "\n",
    "\n",
    "plt.plot(case_1_booster_d, case_1_booster_alt, color=blue, lw=1, alpha=0.3, label=\"Booster Case 1\")\n",
    "plt.plot(case_2_booster_d, case_2_booster_alt, color=blue, lw=1, alpha=0.4, label=\"Booster Case 2\")\n",
    "plt.plot(case_3_booster_d, case_3_booster_alt, color=blue, lw=1, alpha=0.3, label=\"Booster Case 3\")\n",
    "plt.plot(case_1_stage1_d, case_1_stage1_alt, color=blue, lw=1, alpha=0.3, label=\"Stage 1 Case 1\")\n",
    "plt.plot(case_2_stage1_d, case_2_stage1_alt, color=blue, lw=1, alpha=0.4, label=\"Stage 1 Case 2\")\n",
    "plt.plot(case_3_stage1_d, case_3_stage1_alt, color=blue, lw=1, alpha=0.3, label=\"Stage 1 Case 1 3\")\n",
    "\n",
    "plt.plot(downrange/1000.0, (altitudeMsl-270)/1000.0, 'r-', lw=1.5, alpha=0.8, label=\"JSBSim Run\")\n",
    "\n",
    "\n",
    "plt.axis('equal')\n",
    "plt.ylim([0,6])\n",
    "plt.xlim([0,4])\n",
    "plt.xticks(range(5))\n",
    "#ax1.legend(loc=1, title=\"Coordinate:\")\n",
    "plt.show()"
   ]
  },
  {
   "cell_type": "raw",
   "metadata": {},
   "source": []
  }
 ],
 "metadata": {
  "kernelspec": {
   "display_name": "Python 3",
   "language": "python",
   "name": "python3"
  },
  "language_info": {
   "codemirror_mode": {
    "name": "ipython",
    "version": 3
   },
   "file_extension": ".py",
   "mimetype": "text/x-python",
   "name": "python",
   "nbconvert_exporter": "python",
   "pygments_lexer": "ipython3",
   "version": "3.5.1+"
  }
 },
 "nbformat": 4,
 "nbformat_minor": 0
}
