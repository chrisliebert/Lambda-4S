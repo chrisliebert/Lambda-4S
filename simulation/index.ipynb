{
 "cells": [
  {
   "cell_type": "raw",
   "metadata": {},
   "source": [
    "---\n",
    "title: JSBSim L-4S-5 Flight Recreation\n",
    "layout: project-page\n",
    "description: A complete simulation of the Lambda-4S flight using JSBSim simulation library\n",
    "page: simulation\n",
    "---"
   ]
  },
  {
   "cell_type": "markdown",
   "metadata": {},
   "source": [
    "# JSBSim L-4S-5 Flight Recreation\n",
    "\n",
    "Run the model in JSBSim and compare results to technical papers.\n",
    "\n",
    "Download a copy of the Lambda-4S JSBSim configuration:\n",
    "\n",
    " - [JSBSim_Lambda-4S.zip](JSBSim_Lambda-4S.zip)"
   ]
  },
  {
   "cell_type": "code",
   "execution_count": null,
   "metadata": {
    "collapsed": false
   },
   "outputs": [],
   "source": [
    "# dependencies\n",
    "from numpy import loadtxt\n",
    "import matplotlib.pyplot as plt\n",
    "%matplotlib inline\n",
    "\n",
    "blue = \"#3366cc\"\n",
    "red = \"#e31d1d\"\n",
    "green =  \"#76e146\"\n",
    "\n",
    "g_0 = 9.80665\n",
    "\n",
    "LB2KG = 0.453592\n",
    "IN2M = 0.0254\n",
    "SF2KGM = 1.35581795\n",
    "\n",
    "# Historical data\n",
    "columns = loadtxt('../data/traj_model_case_1_booster.csv', delimiter=',', unpack=True)\n",
    "case_1_booster_d, case_1_booster_alt = columns\n",
    "columns = loadtxt('../data/traj_model_case_2_booster.csv', delimiter=',', unpack=True)\n",
    "case_2_booster_d, case_2_booster_alt = columns\n",
    "columns = loadtxt('../data/traj_model_case_3_booster.csv', delimiter=',', unpack=True)\n",
    "case_3_booster_d, case_3_booster_alt = columns\n",
    "columns = loadtxt('../data/traj_model_case_1_stage1.csv', delimiter=',', unpack=True)\n",
    "case_1_stage1_d, case_1_stage1_alt = columns\n",
    "columns = loadtxt('../data/traj_model_case_2_stage1.csv', delimiter=',', unpack=True)\n",
    "case_2_stage1_d, case_2_stage1_alt = columns\n",
    "columns = loadtxt('../data/traj_model_case_3_stage1.csv', delimiter=',', unpack=True)\n",
    "case_3_stage1_d, case_3_stage1_alt = columns\n",
    "\n",
    "stage1_thrust_time, stage1_thrust = loadtxt('../data/thrust_booster_and_stage1.csv', delimiter=',', unpack=True)\n",
    "\n",
    "# Import sim data\n",
    "columns = loadtxt(\"JSBSim/data.csv\", delimiter=',', unpack=True, comments=\"T\")\n",
    "\n",
    "times              = columns[ 0]\n",
    "MET                = columns[ 1]\n",
    "altitudeMsl        = columns[ 2]\n",
    "latitude           = columns[ 3]\n",
    "longitude          = columns[ 4]\n",
    "thrust             = columns[ 5] * 4.44822   # to newtons\n",
    "total_mass         = columns[ 6] * 0.453592  # to kg\n",
    "pitch              = columns[ 7]\n",
    "ecei_vmag          = columns[ 8] * 0.3048    # to m/s\n",
    "eci_vmag           = columns[ 9] * 0.3048    # to m/s\n",
    "qbar               = columns[10] * 4.882e-4  # to kg/cm2\n",
    "acc_u              = columns[11] * 0.3048    # to m/s2\n",
    "acc_v              = columns[12] * 0.3048    # to m/s2\n",
    "acc_w              = columns[13] * 0.3048    # to m/s2\n",
    "downrange          = columns[14]\n",
    "alpha              = columns[15]\n",
    "roll_rate          = columns[16] * 57.2958   # to deg/s"
   ]
  },
  {
   "cell_type": "markdown",
   "metadata": {},
   "source": [
    "## Mass Table\n",
    "\n",
    "This is the mass and moment of inertia table output by JSBSim's initilization report:"
   ]
  },
  {
   "cell_type": "code",
   "execution_count": null,
   "metadata": {
    "collapsed": false
   },
   "outputs": [],
   "source": [
    "masstable = False\n",
    "header = [\"Vehicle Component\", \"Weight [kg]\", \"CG-X [m]\", \"CG-Z [m]\", u\"Ixx [kg·m²]\", u\"Iyy [kg·m²]\", u\"Izz [kg·m²]\"]\n",
    "\n",
    "print(\" |\".join([\"%20s\" % name for name in header]))\n",
    "print(\" |\".join([\" :------------------\"] + [\" ------------------:\" for name in header[1:]]))\n",
    "\n",
    "def test_num(s):\n",
    "    try:\n",
    "        float(s)\n",
    "    except:\n",
    "        return False\n",
    "    return True\n",
    "\n",
    "with open(\"JSBSim/simrun.txt\") as tablein:\n",
    "    for line in tablein.readlines():\n",
    "        if masstable:\n",
    "            line = line.replace('-', ' -')\n",
    "\n",
    "            splitonctrl = line.split('\\x1b')\n",
    "            if len(splitonctrl) < 3:\n",
    "                continue\n",
    "            \n",
    "            name = splitonctrl[1].replace('[1m', '').strip()\n",
    "            if \"Total\" in name:\n",
    "                masstable = False\n",
    "                name = \"**Totals:**\"\n",
    "                print(\" |\".join([\" -------------------\" for name in header]))\n",
    "                values = splitonctrl[1].split()[2:4] + splitonctrl[1].split()[5:9] \n",
    "            else:\n",
    "                values = splitonctrl[2].split()[1:3] + splitonctrl[2].split()[4:8]\n",
    "            \n",
    "            if len(values) < 3:\n",
    "                continue\n",
    "                \n",
    "            values[0] = \"%0.1f\" % (float(values[0]) * LB2KG)\n",
    "            \n",
    "            values[1] = \"%0.3f\" % (float(values[1]) * IN2M)\n",
    "            values[2] = \"%0.3f\" % (float(values[2]) * IN2M)\n",
    "            \n",
    "            values[3] = \"%0.1f\" % (float(values[3]) * SF2KGM)\n",
    "            values[4] = \"%0.1f\" % (float(values[4]) * SF2KGM)\n",
    "            values[5] = \"%0.1f\" % (float(values[5]) * SF2KGM)\n",
    "            \n",
    "            row = [name] + values\n",
    "            print(\" |\".join([\"%20s\" % value for value in row]))\n",
    "\n",
    "        if \"Weight    CG-X    CG-Y    CG-Z         Ixx         Iyy         Izz         Ixy         Ixz         Iyz\" in line:\n",
    "            masstable = True\n",
    "\n"
   ]
  },
  {
   "cell_type": "markdown",
   "metadata": {},
   "source": [
    "## First Stage Thrust\n",
    "\n",
    "Total thrust of the first stage and strap-on boosters compared to the published L-4S-2 vehicle data."
   ]
  },
  {
   "cell_type": "code",
   "execution_count": null,
   "metadata": {
    "collapsed": false
   },
   "outputs": [],
   "source": [
    "fig, ax1 = plt.subplots(figsize=(18,8))\n",
    "plt.title(r\"L-4S-5 First Stage Total Thrust\")\n",
    "plt.ylabel(r\"Thrust [kN]\")\n",
    "plt.xlabel(r\"Launch Elapsed Time [s]\")\n",
    "\n",
    "plt.plot(stage1_thrust_time, (stage1_thrust*g_0)/1000.0, color=blue, alpha=0.4, label=\"L-4S-2 Vehicle Data\")\n",
    "plt.plot(MET, thrust/1000.0, color=red, alpha=0.8, label=u\"JSBSim Simulation\")\n",
    "\n",
    "#plt.ylim([0,5])\n",
    "plt.xlim([0,30])\n",
    "ax1.legend(loc=1)\n",
    "plt.show()"
   ]
  },
  {
   "cell_type": "markdown",
   "metadata": {},
   "source": [
    "## First 5 km Altitude/Downrage Plot"
   ]
  },
  {
   "cell_type": "code",
   "execution_count": null,
   "metadata": {
    "collapsed": false
   },
   "outputs": [],
   "source": [
    "fig, ax1 = plt.subplots(figsize=(6,10))\n",
    "plt.title(r\"L-4S-5 Booster Altitude/Downrage\")\n",
    "plt.ylabel(r\"Altitude [km]\")\n",
    "plt.xlabel(r\"Downrange [km]\")\n",
    "\n",
    "#plt.fill_between(case_1_booster_d, 0, case_1_booster_alt, color=blue, alpha=0.10)\n",
    "#plt.fill_between(case_3_booster_d, 0, case_3_booster_alt, color='white')\n",
    "plt.fill_between(case_3_stage1_d, 0, case_3_stage1_alt, color=blue, alpha=0.05)\n",
    "plt.fill_between(case_1_stage1_d, 0, case_1_stage1_alt, color='white')\n",
    "\n",
    "\n",
    "plt.plot(case_1_booster_d, case_1_booster_alt, color=blue, lw=1, alpha=0.3, label=u\"Case 1: Launch Angle=62.0°\")\n",
    "plt.plot(case_2_booster_d, case_2_booster_alt, color=blue, lw=1, alpha=0.4, label=u\"Case 2: Launch Angle=64.0°\")\n",
    "plt.plot(case_3_booster_d, case_3_booster_alt, color=blue, lw=1, alpha=0.3, label=u\"Case 3: Launch Angle=66.0°\")\n",
    "plt.plot(case_1_stage1_d, case_1_stage1_alt, color=blue, lw=1, alpha=0.3)\n",
    "plt.plot(case_2_stage1_d, case_2_stage1_alt, color=blue, lw=1, alpha=0.4)\n",
    "plt.plot(case_3_stage1_d, case_3_stage1_alt, color=blue, lw=1, alpha=0.3)\n",
    "\n",
    "plt.plot(downrange/1000.0, (altitudeMsl)/1000.0, color=red, lw=1.5, alpha=0.8, label=\"JSBSim Simulation\")\n",
    "\n",
    "\n",
    "plt.axis('equal')\n",
    "plt.ylim([0,5])\n",
    "plt.xlim([0,3])\n",
    "plt.xticks(range(4))\n",
    "ax1.legend(loc=2)\n",
    "plt.show()"
   ]
  },
  {
   "cell_type": "raw",
   "metadata": {},
   "source": []
  }
 ],
 "metadata": {
  "kernelspec": {
   "display_name": "Python 3",
   "language": "python",
   "name": "python3"
  },
  "language_info": {
   "codemirror_mode": {
    "name": "ipython",
    "version": 3
   },
   "file_extension": ".py",
   "mimetype": "text/x-python",
   "name": "python",
   "nbconvert_exporter": "python",
   "pygments_lexer": "ipython3",
   "version": "3.5.1+"
  }
 },
 "nbformat": 4,
 "nbformat_minor": 0
}
