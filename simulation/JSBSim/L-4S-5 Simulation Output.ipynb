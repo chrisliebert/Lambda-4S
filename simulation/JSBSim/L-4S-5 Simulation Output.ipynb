{
 "cells": [
  {
   "cell_type": "markdown",
   "metadata": {},
   "source": [
    "# Lambda-4S-5 Full Flight Simulation\n",
    "\n",
    "Here I've created a model of the L-4S-5 flight. I want to see if this model matches published data so below are comparison charts to the source papers.\n",
    "\n",
    "\n",
    "## Running The Simulation\n",
    "\n",
    "In order to run this code you need to install a copy of [JSBSim](http://jsbsim.sourceforge.net/download.html)\n",
    "\n",
    "Test to see if it's installed and in your path:\n",
    "\n",
    "    $ JSBSim --version\n",
    "    \n",
    "      JSBSim Version: 1.0 Aug 14 2015 23:09:57\n",
    "\n",
    "All of the analysis is in an [IPython Notebook](http://ipython.org/), though the maps and conversion utilties are in other packages. Make sure you have a modern juypiter based IPython\n",
    "\n",
    "    $ sudo pip install ipython-notebook\n",
    "\n",
    "And basemap plus data\n",
    "\n",
    "    $ sudo apt-get install python-mpltoolkits.basemap python-mpltoolkits.basemap-data\n",
    "\n",
    "\n",
    "To run the simulation, the post-procses analysis, and to genorate this document simply run:\n",
    "\n",
    "    $ make\n",
    "\n",
    "\n",
    "## Output\n",
    "\n",
    "First  we start with an overview of the first three stage's altitude, velocity, and acceleration time histories:"
   ]
  },
  {
   "cell_type": "code",
   "execution_count": null,
   "metadata": {
    "collapsed": false
   },
   "outputs": [],
   "source": [
    "from numpy import loadtxt, array, arange, abs as npabs\n",
    "from numpy.linalg import norm\n",
    "import matplotlib.pyplot as plt\n",
    "%matplotlib inline\n",
    "\n",
    "columns = loadtxt(\"data.csv\", delimiter=',', unpack=True, comments=\"T\")\n",
    "\n",
    "times              = columns[ 0]\n",
    "MET                = columns[ 1]\n",
    "altitudeMsl        = columns[ 2]\n",
    "latitude           = columns[ 3]\n",
    "longitude          = columns[ 4]\n",
    "thrust             = columns[ 5] * 4.44822   # to newtons\n",
    "total_mass         = columns[ 6] * 0.453592  # to kg\n",
    "pitch              = columns[ 7]\n",
    "ecei_vmag          = columns[ 8] * 0.3048    # to m/s\n",
    "eci_vmag           = columns[ 9] * 0.3048    # to m/s\n",
    "qbar               = columns[10] * 4.882e-4  # to kg/cm2\n",
    "acc_u              = columns[11] * 0.3048    # to m/s2\n",
    "acc_v              = columns[12] * 0.3048    # to m/s2\n",
    "acc_w              = columns[13] * 0.3048    # to m/s2\n",
    "downrange          = columns[14]\n",
    "alpha              = columns[15]\n",
    "\n",
    "accel = []\n",
    "for i in range(len(acc_u)):\n",
    "    accel.append(norm([acc_u[i], acc_v[i], acc_w[i]]))\n",
    "\n",
    "fig, ax1 = plt.subplots(figsize=(16,9))\n",
    "plt.title(\"L-4S-5 Flight Simulation Overview\")\n",
    "plt.xlabel(r\"Time [s]\")\n",
    "\n",
    "ax1.set_ylabel(r\"Acceleration [m/s$^2$]\")\n",
    "ax1.plot(MET, acc_u, color='#44bb55')\n",
    "ax1.set_ylim([-50,250])\n",
    "ax1.set_xlim([0,180])\n",
    "\n",
    "\n",
    "ax2 = ax1.twinx()\n",
    "#ax2.set_ylabel(r\"Velocity [km/s]\")\n",
    "ax2.plot(MET, ecei_vmag/1000, color='#334455')\n",
    "ax2.set_ylim([0,6])\n",
    "ax2.set_xlim([0,180])\n",
    "ax2.get_yaxis().set_tick_params(direction='in', pad=-15)\n",
    "\n",
    "ax3 = ax2.twinx()\n",
    "#ax3.set_ylabel(r\"Dynamic Pressure [kg/cm$^2$]\")\n",
    "ax3.plot(MET, qbar, color='#bb44bb')\n",
    "ax3.set_ylim([0,3])\n",
    "ax3.set_xlim([0,180])\n",
    "ax3.get_yaxis().set_tick_params(direction='in', pad=-25)\n",
    "\n",
    "ax4 = ax1.twinx()\n",
    "ax4.set_ylabel(r\"Altitude [km]\")\n",
    "ax4.plot(MET, altitudeMsl/1000)\n",
    "ax4.set_ylim([0,300])\n",
    "ax4.set_xlim([0,180])\n",
    "\n",
    "\n",
    "\n",
    "plt.show()\n",
    "\n",
    "from IPython.display import Image\n",
    "Image(filename='original-charts/L-4S-5-flightplan.png') "
   ]
  },
  {
   "cell_type": "markdown",
   "metadata": {},
   "source": [
    "## Downrange Charts\n",
    "\n",
    "L-4S-5 was rail launched at an angle of 63&deg;. We want to look at the plots of Lambda as it travels downrange from the launch site.\n",
    "\n",
    "### Pitch History\n",
    "\n",
    "As the rocket flys it should gravity turn and we should see the pitch angle aproach 0."
   ]
  },
  {
   "cell_type": "code",
   "execution_count": null,
   "metadata": {
    "collapsed": false
   },
   "outputs": [],
   "source": [
    "ax = plt.figure(figsize=(16,10))\n",
    "plt.title(r\"Pitch Time History\")\n",
    "plt.ylabel(r\"Pitch [deg]\")\n",
    "plt.xlabel(r\"Time [s]\")\n",
    "plt.plot(MET, pitch)\n",
    "ax.axes[0].set_xlim([0,600])\n",
    "ax.axes[0].set_ylim([0,80])\n",
    "plt.show()\n",
    "\n",
    "Image(filename='original-charts/L-4S-5-pitchplan.png') "
   ]
  },
  {
   "cell_type": "code",
   "execution_count": null,
   "metadata": {
    "collapsed": false
   },
   "outputs": [],
   "source": [
    "ax = plt.figure(figsize=(16,10))\n",
    "plt.title(r\"Angle of Attack\")\n",
    "plt.ylabel(r\"$\\alpha$ [deg]\")\n",
    "plt.xlabel(r\"Time [s]\")\n",
    "plt.plot(MET, alpha)\n",
    "ax.axes[0].set_xlim([0,600])\n",
    "ax.axes[0].set_ylim([-10,10])\n",
    "plt.show()"
   ]
  },
  {
   "cell_type": "markdown",
   "metadata": {},
   "source": [
    "### Altitude\n",
    "\n",
    "The altitude as it flys downrange, roughly to scale:"
   ]
  },
  {
   "cell_type": "code",
   "execution_count": null,
   "metadata": {
    "collapsed": false
   },
   "outputs": [],
   "source": [
    "ax = plt.figure(figsize=(16,8))\n",
    "plt.title(r\"Downrange\")\n",
    "plt.ylabel(r\"Altitude [km]\")\n",
    "plt.xlabel(r\"Downrange [km]\")\n",
    "plt.plot(downrange/1000, altitudeMsl/1000)\n",
    "plt.axis('equal')\n",
    "plt.show()"
   ]
  },
  {
   "cell_type": "markdown",
   "metadata": {},
   "source": [
    "## Launch Maps\n",
    "\n",
    "Various maps of the launch"
   ]
  },
  {
   "cell_type": "code",
   "execution_count": null,
   "metadata": {
    "collapsed": false
   },
   "outputs": [],
   "source": [
    "from mpl_toolkits.basemap import Basemap\n",
    "ax = plt.figure(figsize=(16,16))\n",
    "plt.title(\"Launch Site Vicinity. First Stages\")\n",
    "\n",
    "m = Basemap(projection='aea',\n",
    "            lat_0=31.2,lon_0=131.3,\n",
    "            width=60e3,height=40e3,resolution ='h')\n",
    "\n",
    "m.fillcontinents(color='#e7e7e7')\n",
    "m.drawcoastlines(color='#dddddd')\n",
    "m.drawcountries(color='#aaaaaa')\n",
    "m.drawparallels(arange(30,33,0.1),labels=[1,1,0,0], color='#cccccc', dashes=(3,7))\n",
    "m.drawmeridians(arange(129,135,0.1),labels=[0,0,0,1], color='#cccccc', dashes=(3,7))\n",
    "\n",
    "x, y = m(longitude, latitude)\n",
    "m.plot(x,y, color='r')\n",
    "\n",
    "\n",
    "for i in [(8, \"Booster Sep\"), (32, \"1st Stage Sep\"), (37, \"2nd Stage Ignition\")]:\n",
    "    idx = (npabs(MET-i[0])).argmin()\n",
    "    mx, my = m(longitude[idx], latitude[idx])\n",
    "    m.plot(mx, my, 'o', color=\"#ffcc22\", markersize=4, markeredgewidth=0.1)\n",
    "    plt.text(mx+50, my-130, i[1], color=\"#444444\", rotation=45, ha='right', va='top')\n",
    "\n",
    "for i in [(15, \"0:15\"), (30, \"0:30\"), (45, \"0:45\"), (60, \"1:00\")]:\n",
    "    idx = (npabs(MET-i[0])).argmin()\n",
    "    mx, my = m(longitude[idx], latitude[idx])\n",
    "    m.plot(mx, my, 'o', color=\"#aaaaaa\", markersize=2, markeredgewidth=0.1)\n",
    "    plt.text(mx+0, my+150, i[1], color=\"#999999\", rotation=45, ha='left', va='bottom')\n",
    "\n",
    "plt.show()"
   ]
  },
  {
   "cell_type": "code",
   "execution_count": null,
   "metadata": {
    "collapsed": false
   },
   "outputs": [],
   "source": [
    "from mpl_toolkits.basemap import Basemap\n",
    "ax = plt.figure(figsize=(16,16))\n",
    "plt.title(\"Medium Range. First 3 Stages And Coasting Arc\")\n",
    "\n",
    "m = Basemap(projection='aea',\n",
    "            lat_0=31.0,lon_0=133.0,\n",
    "            width=800e3,height=500e3,resolution ='h')\n",
    "\n",
    "m.fillcontinents(color='#e7e7e7')\n",
    "m.drawcoastlines(color='#dddddd')\n",
    "m.drawcountries(color='#aaaaaa')\n",
    "m.drawparallels(arange(25,45,1),labels=[1,1,0,0], color='#cccccc', dashes=(3,7))\n",
    "m.drawmeridians(arange(125,140,1),labels=[0,0,0,1], color='#cccccc', dashes=(3,7))\n",
    "\n",
    "lons = [130.55, 131.416667, 130.9587457]\n",
    "lats = [  31.6,  31.916667, 30.3692168]\n",
    "labels = ['Kagoshima City', 'Miyazaki', 'Tanegashima']\n",
    "cx,cy = m(lons, lats)\n",
    "m.plot(cx, cy, 'o', color=\"#aaaaaa\", markersize=4)\n",
    "for label, xpt, ypt in zip(labels, cx, cy):\n",
    "    plt.text(xpt+3000, ypt+3000, label, color=\"#444444\")\n",
    "\n",
    "\n",
    "x, y = m(longitude, latitude)\n",
    "m.plot(x,y, color='r')\n",
    "\n",
    "for i in [(37, \"2nd Stage Ignition\"), (103, \"3rd Stage Ignition\"), (150, \"3rd Stage Separation\")]:\n",
    "    idx = (npabs(MET-i[0])).argmin()\n",
    "    mx, my = m(longitude[idx], latitude[idx])\n",
    "    m.plot(mx, my, 'o', color=\"#ffcc22\", markersize=4, markeredgewidth=0.1)\n",
    "    plt.text(mx-1000, my-2000, i[1], color=\"#444444\", rotation=45, ha='right', va='top')\n",
    "    \n",
    "for i in [(60, \"1:00\"), (60*2, \"2:00\"), (60*3, \"3:00\"), (60*4, \"4:00\")]:\n",
    "    idx = (npabs(MET-i[0])).argmin()\n",
    "    mx, my = m(longitude[idx], latitude[idx])\n",
    "    m.plot(mx, my, 'o', color=\"#aaaaaa\", markersize=2, markeredgewidth=0.1)\n",
    "    plt.text(mx+0, my+5000, i[1], color=\"#999999\", rotation=45, ha='left', va='bottom')\n",
    "\n",
    "\n",
    "plt.show()"
   ]
  },
  {
   "cell_type": "code",
   "execution_count": null,
   "metadata": {
    "collapsed": false
   },
   "outputs": [],
   "source": [
    "from mpl_toolkits.basemap import Basemap\n",
    "ax = plt.figure(figsize=(16,16))\n",
    "plt.title(\"Eastern Hemisphere Map\")\n",
    "\n",
    "m = Basemap(projection='ortho',\n",
    "            lat_0=20.0,lon_0=180.0,resolution ='l')\n",
    "\n",
    "m.fillcontinents(color='#e7e7e7')\n",
    "m.drawcoastlines(color='#dddddd')\n",
    "m.drawcountries(color='#aaaaaa')\n",
    "m.drawparallels(arange(-60,60,10), color='#cccccc', dashes=(3,7))\n",
    "m.drawmeridians(arange(-180,180,10), color='#cccccc', dashes=(3,7))\n",
    "\n",
    "\n",
    "\n",
    "lons = [139.683333, 126.966667, -122.681944]\n",
    "lats = [ 35.683333,  37.566667,   45.52]\n",
    "labels = ['Tokyo', 'Seoul', 'Portland']\n",
    "cx,cy = m(lons, lats)\n",
    "m.plot(cx, cy, 'o', color=\"#aaaaaa\", markersize=4)\n",
    "for label, xpt, ypt in zip(labels, cx, cy):\n",
    "    plt.text(xpt+20000, ypt+20000, label, color=\"#444444\")\n",
    "    \n",
    "    \n",
    "x, y = m(longitude, latitude)\n",
    "m.plot(x,y, color='r')\n",
    "\n",
    "plt.show()"
   ]
  },
  {
   "cell_type": "markdown",
   "metadata": {},
   "source": []
  }
 ],
 "metadata": {
  "kernelspec": {
   "display_name": "Python 2",
   "language": "python",
   "name": "python2"
  },
  "language_info": {
   "codemirror_mode": {
    "name": "ipython",
    "version": 2
   },
   "file_extension": ".py",
   "mimetype": "text/x-python",
   "name": "python",
   "nbconvert_exporter": "python",
   "pygments_lexer": "ipython2",
   "version": "2.7.10+"
  }
 },
 "nbformat": 4,
 "nbformat_minor": 0
}
